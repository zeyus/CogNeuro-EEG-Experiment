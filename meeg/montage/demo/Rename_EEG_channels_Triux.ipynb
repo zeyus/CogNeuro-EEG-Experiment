{
 "cells": [
  {
   "cell_type": "markdown",
   "metadata": {},
   "source": [
    "# Rename EEG channels with 10/20-names\n",
    "\n",
    "The Neuromag data acquisition system names the EEG channels according to the order they are plugged into the EEG amplifier. To obtain the more traditional and spatially informative names, we need to provide a mapping from index- to 10/20-names.\n",
    "\n",
    "The channel layout is show below."
   ]
  },
  {
   "cell_type": "markdown",
   "metadata": {},
   "source": [
    "<img src=\"Aarhus-Triux-75Ch-Layout.png\" alt=\"Drawing\" style=\"width: 600px;\"/>"
   ]
  },
  {
   "cell_type": "markdown",
   "metadata": {},
   "source": [
    "## Load the default mapping\n",
    "\n",
    "First add the location to the map itself, and a convenience function (`read_eeg_mapping_triux`) for reading it, to your python path."
   ]
  },
  {
   "cell_type": "code",
   "execution_count": 3,
   "metadata": {},
   "outputs": [],
   "source": [
    "from meeg.montage import read_eeg_mapping_triux\n",
    "mapping = read_eeg_mapping_triux('../data/easycap-Aar75-mapping.json')\n",
    "# For debugging:\n",
    "# import os.path as op\n",
    "# mapping = read_eeg_mapping_triux(op.abspath('./') + '/easycap-Aar75-mapping.json')"
   ]
  },
  {
   "cell_type": "markdown",
   "metadata": {},
   "source": [
    "## Rename the channels of loaded data\n",
    "\n",
    "This should work for `raw`, `epochs` and `evoked` objects:"
   ]
  },
  {
   "cell_type": "code",
   "execution_count": 4,
   "metadata": {},
   "outputs": [
    {
     "name": "stdout",
     "output_type": "stream",
     "text": [
      "Opening raw data file /Users/cjb/src/git/meeg-cfin/meeg-python/meeg/montage/demo/demo_raw.fif.gz...\n",
      "    Read a total of 1 projection items:\n",
      "        Average EEG reference (1 x 75)  idle\n",
      "    Range : 371000 ... 371001 =    371.000 ...   371.001 secs\n",
      "Ready.\n"
     ]
    }
   ],
   "source": [
    "from mne.io import read_raw_fif\n",
    "raw = read_raw_fif('demo_raw.fif.gz')"
   ]
  },
  {
   "cell_type": "markdown",
   "metadata": {},
   "source": [
    "Just use the `rename_channels` method with the loaded mapping."
   ]
  },
  {
   "cell_type": "code",
   "execution_count": 5,
   "metadata": {},
   "outputs": [],
   "source": [
    "ch_names_before = raw.ch_names\n",
    "raw.rename_channels(mapping=mapping)\n",
    "ch_names_after = raw.ch_names"
   ]
  },
  {
   "cell_type": "markdown",
   "metadata": {},
   "source": [
    "Take a look at the first 5 channel names before and after"
   ]
  },
  {
   "cell_type": "code",
   "execution_count": 6,
   "metadata": {},
   "outputs": [
    {
     "name": "stdout",
     "output_type": "stream",
     "text": [
      "EEG001 -> Fp1\n",
      "EEG002 -> Fpz\n",
      "EEG003 -> Fp2\n",
      "EEG004 -> AF7\n",
      "EEG005 -> AF3\n"
     ]
    }
   ],
   "source": [
    "for ii in range(5):\n",
    "    print('{:s} -> {:s}'.format(ch_names_before[ii], ch_names_after[ii]))"
   ]
  }
 ],
 "metadata": {
  "hide_input": false,
  "kernelspec": {
   "display_name": "Python 3",
   "language": "python",
   "name": "python3"
  },
  "language_info": {
   "codemirror_mode": {
    "name": "ipython",
    "version": 3
   },
   "file_extension": ".py",
   "mimetype": "text/x-python",
   "name": "python",
   "nbconvert_exporter": "python",
   "pygments_lexer": "ipython3",
   "version": "3.7.1"
  }
 },
 "nbformat": 4,
 "nbformat_minor": 1
}
